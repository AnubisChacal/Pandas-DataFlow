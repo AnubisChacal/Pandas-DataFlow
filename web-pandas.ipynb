{
 "cells": [
  {
   "cell_type": "code",
   "execution_count": 81,
   "metadata": {},
   "outputs": [],
   "source": [
    "#Importe das bibliotecas \n",
    "import pandas as pd "
   ]
  },
  {
   "cell_type": "code",
   "execution_count": null,
   "metadata": {},
   "outputs": [],
   "source": [
    "#Definindo  a variavel como uma tabela .xlsx\n",
    "#Usando somente a pagina FASE\n",
    "#Usando colunas expecificas \n",
    "\n",
    "#Colunas de datas\n",
    "    #\"B,D,M,O,X,Z,AI,AK,AT,AV,BE,BG,BP,BR\"\n",
    "\n",
    "#Colunas de nome de fase, porem tem que usar a linha 2\n",
    "                            #\"A,L,W,AH,AS,BD,BO\"\n",
    "df1 = pd.read_excel(\"ESCOLA ON - 1TURMA - MAPEAMENTO - TURMA DE 2023.xlsx\", \n",
    "                   sheet_name='Fase', usecols=\"A,L,W,AH,AS,BD,BO\")\n"
   ]
  },
  {
   "cell_type": "code",
   "execution_count": 83,
   "metadata": {},
   "outputs": [],
   "source": [
    "#Renomeando as colunas\n",
    "df1.rename(columns={'Ano 1':  '100GRAD1TURMAFASE1-2023' , 'Ano 1.1': '100GRAD1TURMAFASE2-2023',\n",
    "                   'Ano 1.2': '100GRAD1TURMAFASE3-2023', 'Ano 1.3':  '100GRAD1TURMAFASE4-2023',\n",
    "                   'Ano 1.4': '100GRAD1TURMAFASE5-2023', 'Ano 1.5':  '100GRAD1TURMAFASE6-2023',\n",
    "                   'Ano 1.6': '100GRAD1TURMAFASE7-2023'}, inplace=True)"
   ]
  },
  {
   "cell_type": "code",
   "execution_count": 84,
   "metadata": {},
   "outputs": [],
   "source": [
    "# Remove todas as linhas, exceto a primeira\n",
    "df1_drop = df1.drop(df1.index[1:])\n"
   ]
  },
  {
   "cell_type": "code",
   "execution_count": null,
   "metadata": {},
   "outputs": [],
   "source": [
    "# Remove todas as linhas que contêm valores ausentes\n",
    "df1_drop.dropna(inplace=True)\n"
   ]
  },
  {
   "cell_type": "code",
   "execution_count": 86,
   "metadata": {},
   "outputs": [],
   "source": [
    "# Atribuino cada coluna a uma variavel\n",
    "df1_fase5_TURMA = df1_drop['100GRAD1TURMAFASE6-2023']\n"
   ]
  },
  {
   "cell_type": "code",
   "execution_count": 87,
   "metadata": {},
   "outputs": [],
   "source": [
    "# Salvando as tabelas\n",
    "df1_fase5_TURMA.to_csv('\\\\criar_curso\\\\1TURMA\\\\100GRAD2TURMAFASE6-2023.csv',index=False)\n"
   ]
  }
 ],
 "metadata": {
  "kernelspec": {
   "display_name": "Python 3",
   "language": "python",
   "name": "python3"
  },
  "language_info": {
   "codemirror_mode": {
    "name": "ipython",
    "version": 3
   },
   "file_extension": ".py",
   "mimetype": "text/x-python",
   "name": "python",
   "nbconvert_exporter": "python",
   "pygments_lexer": "ipython3",
   "version": "3.11.2"
  },
  "orig_nbformat": 4
 },
 "nbformat": 4,
 "nbformat_minor": 2
}
