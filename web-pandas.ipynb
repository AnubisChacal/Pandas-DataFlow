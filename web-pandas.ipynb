{
 "cells": [
  {
   "cell_type": "code",
   "execution_count": 81,
   "metadata": {},
   "outputs": [],
   "source": [
    "#Importe das bibliotecas \n",
    "import pandas as pd "
   ]
  },
  {
   "cell_type": "code",
   "execution_count": null,
   "metadata": {},
   "outputs": [],
   "source": [
    "#Definindo  a variavel como uma tabela .xlsx\n",
    "#Usando somente a pagina FASE\n",
    "#Usando colunas expecificas \n",
    "\n",
    "#Colunas de datas\n",
    "    #\"B,D,M,O,X,Z,AI,AK,AT,AV,BE,BG,BP,BR\"\n",
    "\n",
    "#Colunas de nome de fase, porem tem que usar a linha 2\n",
    "                            #\"A,L,W,AH,AS,BD,BO\"\n",
    "df1 = pd.read_excel(\"C:\\\\Users\\\\Anubis\\\\OneDrive\\\\Área de Trabalho\\\\Documentos\\\\Aperta o X\\\\Projetos\\\\Python\\\\WEB - Automação\\\\Planilhas originais\\\\FIAP ON - 1SIO - MAPEAMENTO - TURMA DE 2023.xlsx\", \n",
    "                   sheet_name='Fase', usecols=\"A,L,W,AH,AS,BD,BO\")\n",
    "#================================================================================================================================================================================================================\n",
    "df2 = pd.read_excel(\"C:\\\\Users\\\\Anubis\\\\OneDrive\\\\Área de Trabalho\\\\Documentos\\\\Aperta o X\\\\Projetos\\\\Python\\\\WEB - Automação\\\\Planilhas originais\\\\FIAP ON - 2SIO - MAPEAMENTO - TURMA DE 2023.xlsx\", \n",
    "                   sheet_name='Fase', usecols=\"A,L,W,AH,AS,BD,BO\")\n",
    "#================================================================================================================================================================================================================\n",
    "df3 = pd.read_excel(\"C:\\\\Users\\\\Anubis\\\\OneDrive\\\\Área de Trabalho\\\\Documentos\\\\Aperta o X\\\\Projetos\\\\Python\\\\WEB - Automação\\\\Planilhas originais\\\\FIAP ON - 3SIO - MAPEAMENTO - TURMA DE 2023.xlsx\", \n",
    "                   sheet_name='Fase', usecols=\"A,L,W,AH,AS,BD,BO\")\n",
    "#================================================================================================================================================================================================================\n",
    "df4 = pd.read_excel(\"C:\\\\Users\\\\Anubis\\\\OneDrive\\\\Área de Trabalho\\\\Documentos\\\\Aperta o X\\\\Projetos\\\\Python\\\\WEB - Automação\\\\Planilhas originais\\\\FIAP ON - 4SIO - MAPEAMENTO - TURMA DE 2023.xlsx\", \n",
    "                   sheet_name='Fase', usecols=\"A,L,W,AH,AS,BD,BO\")"
   ]
  },
  {
   "cell_type": "code",
   "execution_count": 83,
   "metadata": {},
   "outputs": [],
   "source": [
    "#Renomeando as colunas\n",
    "df1.rename(columns={'Ano 1':  '100GRAD1SIFASE1-2023' , 'Ano 1.1': '100GRAD1SIFASE2-2023',\n",
    "                   'Ano 1.2': '100GRAD1SIFASE3-2023', 'Ano 1.3':  '100GRAD1SIFASE4-2023',\n",
    "                   'Ano 1.4': '100GRAD1SIFASE5-2023', 'Ano 1.5':  '100GRAD1SIFASE6-2023',\n",
    "                   'Ano 1.6': '100GRAD1SIFASE7-2023'}, inplace=True)\n",
    "#=============================================================================================\n",
    "df2.rename(columns={'Ano 2':  '100GRAD2SIFASE1-2023' , 'Ano 2.1': '100GRAD2SIFASE2-2023',\n",
    "                   'Ano 2.2': '100GRAD2SIFASE3-2023', 'Ano 2.3':  '100GRAD2SIFASE4-2023',\n",
    "                   'Ano 2.4': '100GRAD2SIFASE5-2023', 'Ano 2.5':  '100GRAD2SIFASE6-2023',\n",
    "                   'Ano 2.6': '100GRAD2SIFASE7-2023'}, inplace=True)\n",
    "#=============================================================================================\n",
    "df3.rename(columns={'Ano 3':  '100GRAD3SIFASE1-2023' ,'Ano 3.1': '100GRAD3SIFASE2-2023',\n",
    "                   'Ano 3.2': '100GRAD3SIFASE3-2023', 'Ano 3.3':  '100GRAD3SIFASE4-2023',\n",
    "                   'Ano 3.4': '100GRAD3SIFASE5-2023', 'Ano 3.5':  '100GRAD3SIFASE6-2023',\n",
    "                   'Ano 3.6': '100GRAD3SIFASE7-2023'}, inplace=True)\n",
    "#=============================================================================================\n",
    "df4.rename(columns={'Ano 4':  '100GRAD4SIFASE1-2023' ,'Ano 4.1': '100GRAD4SIFASE2-2023',\n",
    "                   'Ano 4.2': '100GRAD4SIFASE3-2023', 'Ano 4.3':  '100GRAD4SIFASE4-2023',\n",
    "                   'Ano 4.4': '100GRAD4SIFASE5-2023', 'Ano 4.5':  '100GRAD4SIFASE6-2023',\n",
    "                   'Ano 4.6': '100GRAD4SIFASE7-2023'}, inplace=True)\n"
   ]
  },
  {
   "cell_type": "code",
   "execution_count": 84,
   "metadata": {},
   "outputs": [],
   "source": [
    "# Remove todas as linhas, exceto a primeira\n",
    "df1_drop = df1.drop(df1.index[1:])\n",
    "df2_drop = df2.drop(df2.index[1:])\n",
    "df3_drop = df3.drop(df3.index[1:])\n",
    "df4_drop = df4.drop(df4.index[1:])"
   ]
  },
  {
   "cell_type": "code",
   "execution_count": 85,
   "metadata": {},
   "outputs": [
    {
     "data": {
      "text/html": [
       "<div>\n",
       "<style scoped>\n",
       "    .dataframe tbody tr th:only-of-type {\n",
       "        vertical-align: middle;\n",
       "    }\n",
       "\n",
       "    .dataframe tbody tr th {\n",
       "        vertical-align: top;\n",
       "    }\n",
       "\n",
       "    .dataframe thead th {\n",
       "        text-align: right;\n",
       "    }\n",
       "</style>\n",
       "<table border=\"1\" class=\"dataframe\">\n",
       "  <thead>\n",
       "    <tr style=\"text-align: right;\">\n",
       "      <th></th>\n",
       "      <th>100GRAD1SIFASE1-2023</th>\n",
       "      <th>100GRAD1SIFASE2-2023</th>\n",
       "      <th>100GRAD1SIFASE3-2023</th>\n",
       "      <th>100GRAD1SIFASE4-2023</th>\n",
       "      <th>100GRAD1SIFASE5-2023</th>\n",
       "      <th>100GRAD1SIFASE6-2023</th>\n",
       "      <th>100GRAD1SIFASE7-2023</th>\n",
       "    </tr>\n",
       "  </thead>\n",
       "  <tbody>\n",
       "    <tr>\n",
       "      <th>0</th>\n",
       "      <td>Fase 1 - Project Overview</td>\n",
       "      <td>Fase 2 - Interface Design</td>\n",
       "      <td>Fase 3 - Welcome to Matrix</td>\n",
       "      <td>Fase 4 - Cyber Physical System</td>\n",
       "      <td>Fase 5 - Game development</td>\n",
       "      <td>Fase 6 - Business and Competitive Strategies</td>\n",
       "      <td>Fase 7 -  MentalAid in action</td>\n",
       "    </tr>\n",
       "  </tbody>\n",
       "</table>\n",
       "</div>"
      ],
      "text/plain": [
       "        100GRAD1SIFASE1-2023       100GRAD1SIFASE2-2023  \\\n",
       "0  Fase 1 - Project Overview  Fase 2 - Interface Design   \n",
       "\n",
       "         100GRAD1SIFASE3-2023            100GRAD1SIFASE4-2023  \\\n",
       "0  Fase 3 - Welcome to Matrix  Fase 4 - Cyber Physical System   \n",
       "\n",
       "        100GRAD1SIFASE5-2023                          100GRAD1SIFASE6-2023  \\\n",
       "0  Fase 5 - Game development  Fase 6 - Business and Competitive Strategies   \n",
       "\n",
       "            100GRAD1SIFASE7-2023  \n",
       "0  Fase 7 -  MentalAid in action  "
      ]
     },
     "execution_count": 85,
     "metadata": {},
     "output_type": "execute_result"
    }
   ],
   "source": [
    "# Remove todas as linhas que contêm valores ausentes\n",
    "df1_drop.dropna(inplace=True)\n",
    "df2_drop.dropna(inplace=True)\n",
    "df3_drop.dropna(inplace=True)\n",
    "df4_drop.dropna(inplace=True)\n",
    "df1_drop"
   ]
  },
  {
   "cell_type": "code",
   "execution_count": 86,
   "metadata": {},
   "outputs": [],
   "source": [
    "# Atribuino cada coluna a uma variavel\n",
    "df1_fase5_SI = df1_drop['100GRAD1SIFASE6-2023']\n",
    "df2_fase5_SI = df2_drop['100GRAD2SIFASE6-2023']\n",
    "df3_fase5_SI = df3_drop['100GRAD3SIFASE6-2023']\n",
    "df4_fase5_SI = df4_drop['100GRAD4SIFASE6-2023']"
   ]
  },
  {
   "cell_type": "code",
   "execution_count": 87,
   "metadata": {},
   "outputs": [],
   "source": [
    "# Salvando as tabelas\n",
    "df1_fase5_SI.to_csv('C:\\\\Users\\\\Anubis\\\\OneDrive\\\\Área de Trabalho\\\\Documentos\\\\Aperta o X\\\\Projetos\\\\Python\\\\WEB - Automação\\\\criar_curso\\\\1SI\\\\100GRAD2SIFASE6-2023.csv',index=False)\n",
    "df2_fase5_SI.to_csv('C:\\\\Users\\\\Anubis\\\\OneDrive\\\\Área de Trabalho\\\\Documentos\\\\Aperta o X\\\\Projetos\\\\Python\\\\WEB - Automação\\\\criar_curso\\\\2SI\\\\100GRAD2SIFASE6-2023.csv',index=False)\n",
    "df3_fase5_SI.to_csv('C:\\\\Users\\\\Anubis\\\\OneDrive\\\\Área de Trabalho\\\\Documentos\\\\Aperta o X\\\\Projetos\\\\Python\\\\WEB - Automação\\\\criar_curso\\\\3SI\\\\100GRAD2SIFASE6-2023.csv',index=False)\n",
    "df4_fase5_SI.to_csv('C:\\\\Users\\\\Anubis\\\\OneDrive\\\\Área de Trabalho\\\\Documentos\\\\Aperta o X\\\\Projetos\\\\Python\\\\WEB - Automação\\\\criar_curso\\\\4SI\\\\100GRAD2SIFASE6-2023.csv',index=False)"
   ]
  }
 ],
 "metadata": {
  "kernelspec": {
   "display_name": "Python 3",
   "language": "python",
   "name": "python3"
  },
  "language_info": {
   "codemirror_mode": {
    "name": "ipython",
    "version": 3
   },
   "file_extension": ".py",
   "mimetype": "text/x-python",
   "name": "python",
   "nbconvert_exporter": "python",
   "pygments_lexer": "ipython3",
   "version": "3.11.2"
  },
  "orig_nbformat": 4
 },
 "nbformat": 4,
 "nbformat_minor": 2
}
