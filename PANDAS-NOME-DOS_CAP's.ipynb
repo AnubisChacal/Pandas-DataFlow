{
 "cells": [
  {
   "cell_type": "code",
   "execution_count": 4,
   "metadata": {},
   "outputs": [],
   "source": [
    "#Importe das bibliotecas \n",
    "import pandas as pd\n",
    "import numpy as np"
   ]
  },
  {
   "cell_type": "code",
   "execution_count": null,
   "metadata": {},
   "outputs": [],
   "source": [
    "#Utilizando 4 tabelas diferentes para fazer as tratativas de dados\n",
    "#Usando somente a pagina FASE\n",
    "#Usando colunas expecificas\n",
    "\n",
    "df1 = pd.read_excel(\"Turma1_Planilha-Original.xlsxTurma1_Planilha-Original.xlsx\",\n",
    "                    sheet_name='Fase', usecols=\"E,P,AA,AL,AW,BH,BS\")\n",
    "df1 = df1.shift(-7)\n",
    "df1"
   ]
  },
  {
   "cell_type": "code",
   "execution_count": 6,
   "metadata": {},
   "outputs": [],
   "source": [
    "#Renomeando colunas das fases\n",
    "\n",
    "df1 .rename(columns={'Unnamed: 4':  '100 - Turma1 - Fase 1 - 2023', 'Unnamed: 15': '100 - Turma1 - Fase 2 - 2023', \n",
    "                     'Unnamed: 26': '100 - Turma1 - Fase 3 - 2023', 'Unnamed: 37': '100 - Turma1 - Fase 4 - 2023',\n",
    "                     'Unnamed: 48': '100 - Turma1 - Fase 5 - 2023', 'Unnamed: 59': '100 - Turma1 - Fase 6 - 2023', \n",
    "                     'Unnamed: 70': '100 - Turma1 - Fase 7 - 2023'}, inplace=True)"
   ]
  },
  {
   "cell_type": "code",
   "execution_count": 7,
   "metadata": {},
   "outputs": [],
   "source": [
    "#separa as colunas por variaveis\n",
    "\n",
    "df_fase1_Turma1 = df1['100 - Turma1 - Fase 1 - 2023']\n",
    "df_fase2_Turma1 = df1['100 - Turma1 - Fase 2 - 2023']\n",
    "df_fase3_Turma1 = df1['100 - Turma1 - Fase 3 - 2023']\n",
    "df_fase4_Turma1 = df1['100 - Turma1 - Fase 4 - 2023']\n",
    "df_fase5_Turma1 = df1['100 - Turma1 - Fase 5 - 2023']\n",
    "df_fase6_Turma1 = df1['100 - Turma1 - Fase 6 - 2023']\n",
    "df_fase7_Turma1 = df1['100 - Turma1 - Fase 7 - 2023']\n"
   ]
  },
  {
   "cell_type": "code",
   "execution_count": 8,
   "metadata": {},
   "outputs": [],
   "source": [
    "#Salva os data frames como .csv\n",
    "\n",
    "df_fase1_Turma1.to_csv('100 - Turma1 - Fase 1 - 2023.csv', index=False)\n",
    "df_fase2_Turma1.to_csv('100 - Turma1 - Fase 2 - 2023.csv', index=False)\n",
    "df_fase3_Turma1.to_csv('100 - Turma1 - Fase 3 - 2023.csv', index=False)\n",
    "df_fase4_Turma1.to_csv('100 - Turma1 - Fase 4 - 2023.csv', index=False)\n",
    "df_fase5_Turma1.to_csv('100 - Turma1 - Fase 5 - 2023.csv', index=False)\n",
    "df_fase6_Turma1.to_csv('100 - Turma1 - Fase 6 - 2023.csv', index=False)\n",
    "df_fase7_Turma1.to_csv('100 - Turma1 - Fase 7 - 2023.csv', index=False)\n"
   ]
  },
  {
   "attachments": {},
   "cell_type": "markdown",
   "metadata": {},
   "source": [
    "**========================================================================================================================================================**"
   ]
  },
  {
   "cell_type": "code",
   "execution_count": 9,
   "metadata": {},
   "outputs": [],
   "source": [
    "#Definindo  a variavel como uma tabela .xlsx\n",
    "#Usando somente a pagina FASE\n",
    "#Usando colunas expecificas \n",
    "\n",
    "#=======================================================================================================================================================================================\n",
    "# As tabelas que seram tratadas deveram ser definidas ao fim do PATH  como no exemplo: 100 - 1Turma - Fase 6 - 2023.csv\n",
    "\n",
    "df_fase_6_1Turma = pd.read_csv(\"100 - 1Turma - Fase 6 - 2023.csv\",)\n",
    "df_fase_6_2Turma = pd.read_csv(\"100 - 2Turma - Fase 6 - 2023.csv\",)\n",
    "df_fase_6_3Turma = pd.read_csv(\"100 - 3Turma - Fase 6 - 2023.csv\",)\n",
    "df_fase_6_4Turma = pd.read_csv(\"100 - 4Turma - Fase 6 - 2023.csv\",)\n"
   ]
  },
  {
   "cell_type": "code",
   "execution_count": null,
   "metadata": {},
   "outputs": [],
   "source": [
    "# Como demonstrado na tabela as linhas estam sem a palavra \"Cap\" e estão com o numero \"0\" a esquerda\n",
    "df_fase_6_1Turma.dropna(inplace=True)\n",
    "df_fase_6_2Turma.dropna(inplace=True)\n",
    "df_fase_6_3Turma.dropna(inplace=True)\n",
    "df_fase_6_4Turma.dropna(inplace=True)\n"
   ]
  },
  {
   "cell_type": "code",
   "execution_count": null,
   "metadata": {},
   "outputs": [],
   "source": [
    "# Como demonstrado na tabela Foram removidos os \"0\" a esquerda\n",
    "df_labda1 = df_fase_6_1Turma.applymap(lambda x: str(x)[1:] if str(x).startswith('0') else x)\n",
    "df_labda2 = df_fase_6_2Turma.applymap(lambda x: str(x)[1:] if str(x).startswith('0') else x)\n",
    "df_labda3 = df_fase_6_3Turma.applymap(lambda x: str(x)[1:] if str(x).startswith('0') else x)\n",
    "df_labda4 = df_fase_6_4Turma.applymap(lambda x: str(x)[1:] if str(x).startswith('0') else x)"
   ]
  },
  {
   "cell_type": "code",
   "execution_count": null,
   "metadata": {},
   "outputs": [],
   "source": [
    "# Essa funçãop define que se ouver a condição \" \" que no caso poderia ser seguida de exemplo: \"1 - <Nome do captulo>\"\n",
    "# Sera adcionado o \"Cap\"\n",
    "df_labda_1 = df_labda1.applymap(lambda x: 'Cap ' + str(x) if str(x).startswith('') else x)\n",
    "df_labda_2 = df_labda2.applymap(lambda x: 'Cap ' + str(x) if str(x).startswith('') else x)\n",
    "df_labda_3 = df_labda3.applymap(lambda x: 'Cap ' + str(x) if str(x).startswith('') else x)\n",
    "df_labda_4 = df_labda4.applymap(lambda x: 'Cap ' + str(x) if str(x).startswith('') else x)"
   ]
  },
  {
   "cell_type": "code",
   "execution_count": 14,
   "metadata": {},
   "outputs": [],
   "source": [
    "# Salva as tabelas tratadas\n",
    "df_labda_1.to_csv(\"100 - 1Turma - Fase 6 - 2023.csv\",index=False)\n",
    "df_labda_2.to_csv(\"100 - 2Turma - Fase 6 - 2023.csv\",index=False)\n",
    "df_labda_3.to_csv(\"100 - 3Turma - Fase 6 - 2023.csv\",index=False)\n",
    "df_labda_4.to_csv(\"100 - 4Turma - Fase 6 - 2023.csv\",index=False)"
   ]
  }
 ],
 "metadata": {
  "kernelspec": {
   "display_name": "Python 3",
   "language": "python",
   "name": "python3"
  },
  "language_info": {
   "codemirror_mode": {
    "name": "ipython",
    "version": 3
   },
   "file_extension": ".py",
   "mimetype": "text/x-python",
   "name": "python",
   "nbconvert_exporter": "python",
   "pygments_lexer": "ipython3",
   "version": "3.11.2"
  },
  "orig_nbformat": 4
 },
 "nbformat": 4,
 "nbformat_minor": 2
}
